{
 "cells": [
  {
   "cell_type": "code",
   "execution_count": 24,
   "metadata": {},
   "outputs": [],
   "source": [
    "import keras_ocr\n",
    "import matplotlib.pyplot as plt\n",
    "import numpy as np\n",
    "import os"
   ]
  },
  {
   "cell_type": "code",
   "execution_count": 17,
   "metadata": {},
   "outputs": [
    {
     "name": "stdout",
     "output_type": "stream",
     "text": [
      "Looking for C:\\Users\\isilb\\.keras-ocr\\craft_mlt_25k.h5\n",
      "Looking for C:\\Users\\isilb\\.keras-ocr\\crnn_kurapan.h5\n"
     ]
    }
   ],
   "source": [
    "pipeline = keras_ocr.pipeline.Pipeline()"
   ]
  },
  {
   "cell_type": "code",
   "execution_count": 20,
   "metadata": {},
   "outputs": [],
   "source": []
  },
  {
   "cell_type": "code",
   "execution_count": 28,
   "metadata": {},
   "outputs": [
    {
     "name": "stdout",
     "output_type": "stream",
     "text": [
      "(806, 1475, 3)\n"
     ]
    }
   ],
   "source": [
    "image=keras_ocr.tools.read(os.path.join(\"..\",\"test_img.jpeg\"))\n",
    "print(np.shape(image))\n"
   ]
  },
  {
   "cell_type": "code",
   "execution_count": 29,
   "metadata": {},
   "outputs": [
    {
     "ename": "ValueError",
     "evalue": "operands could not be broadcast together with shapes (2048,4) (3,) (2048,4) ",
     "output_type": "error",
     "traceback": [
      "\u001b[1;31m---------------------------------------------------------------------------\u001b[0m",
      "\u001b[1;31mValueError\u001b[0m                                Traceback (most recent call last)",
      "\u001b[1;32mc:\\Users\\isilb\\OneDrive\\Masaüstü\\clean-product-project\\clean-product-test\\notebooks\\ocr.ipynb Cell 5\u001b[0m in \u001b[0;36m<cell line: 1>\u001b[1;34m()\u001b[0m\n\u001b[1;32m----> <a href='vscode-notebook-cell:/c%3A/Users/isilb/OneDrive/Masa%C3%BCst%C3%BC/clean-product-project/clean-product-test/notebooks/ocr.ipynb#W6sZmlsZQ%3D%3D?line=0'>1</a>\u001b[0m prediction_groups \u001b[39m=\u001b[39m pipeline\u001b[39m.\u001b[39mrecognize(image)\n\u001b[0;32m      <a href='vscode-notebook-cell:/c%3A/Users/isilb/OneDrive/Masa%C3%BCst%C3%BC/clean-product-project/clean-product-test/notebooks/ocr.ipynb#W6sZmlsZQ%3D%3D?line=2'>3</a>\u001b[0m \u001b[39m#plot\u001b[39;00m\n\u001b[0;32m      <a href='vscode-notebook-cell:/c%3A/Users/isilb/OneDrive/Masa%C3%BCst%C3%BC/clean-product-project/clean-product-test/notebooks/ocr.ipynb#W6sZmlsZQ%3D%3D?line=3'>4</a>\u001b[0m fig, axs \u001b[39m=\u001b[39m plt\u001b[39m.\u001b[39msubplots(nrows\u001b[39m=\u001b[39m\u001b[39mlen\u001b[39m(image),figsize\u001b[39m=\u001b[39m(\u001b[39m20\u001b[39m,\u001b[39m20\u001b[39m))\n",
      "File \u001b[1;32mc:\\Users\\isilb\\AppData\\Local\\Programs\\Python\\Python310\\lib\\site-packages\\keras_ocr\\pipeline.py:62\u001b[0m, in \u001b[0;36mPipeline.recognize\u001b[1;34m(self, images, detection_kwargs, recognition_kwargs)\u001b[0m\n\u001b[0;32m     60\u001b[0m \u001b[39mif\u001b[39;00m recognition_kwargs \u001b[39mis\u001b[39;00m \u001b[39mNone\u001b[39;00m:\n\u001b[0;32m     61\u001b[0m     recognition_kwargs \u001b[39m=\u001b[39m {}\n\u001b[1;32m---> 62\u001b[0m box_groups \u001b[39m=\u001b[39m \u001b[39mself\u001b[39m\u001b[39m.\u001b[39mdetector\u001b[39m.\u001b[39mdetect(images\u001b[39m=\u001b[39mimages, \u001b[39m*\u001b[39m\u001b[39m*\u001b[39mdetection_kwargs)\n\u001b[0;32m     63\u001b[0m prediction_groups \u001b[39m=\u001b[39m \u001b[39mself\u001b[39m\u001b[39m.\u001b[39mrecognizer\u001b[39m.\u001b[39mrecognize_from_boxes(\n\u001b[0;32m     64\u001b[0m     images\u001b[39m=\u001b[39mimages, box_groups\u001b[39m=\u001b[39mbox_groups, \u001b[39m*\u001b[39m\u001b[39m*\u001b[39mrecognition_kwargs\n\u001b[0;32m     65\u001b[0m )\n\u001b[0;32m     66\u001b[0m box_groups \u001b[39m=\u001b[39m [\n\u001b[0;32m     67\u001b[0m     tools\u001b[39m.\u001b[39madjust_boxes(boxes\u001b[39m=\u001b[39mboxes, boxes_format\u001b[39m=\u001b[39m\u001b[39m\"\u001b[39m\u001b[39mboxes\u001b[39m\u001b[39m\"\u001b[39m, scale\u001b[39m=\u001b[39m\u001b[39m1\u001b[39m \u001b[39m/\u001b[39m scale)\n\u001b[0;32m     68\u001b[0m     \u001b[39mif\u001b[39;00m scale \u001b[39m!=\u001b[39m \u001b[39m1\u001b[39m\n\u001b[0;32m     69\u001b[0m     \u001b[39melse\u001b[39;00m boxes\n\u001b[0;32m     70\u001b[0m     \u001b[39mfor\u001b[39;00m boxes, scale \u001b[39min\u001b[39;00m \u001b[39mzip\u001b[39m(box_groups, scales)\n\u001b[0;32m     71\u001b[0m ]\n",
      "File \u001b[1;32mc:\\Users\\isilb\\AppData\\Local\\Programs\\Python\\Python310\\lib\\site-packages\\keras_ocr\\detection.py:778\u001b[0m, in \u001b[0;36mDetector.detect\u001b[1;34m(self, images, detection_threshold, text_threshold, link_threshold, size_threshold, **kwargs)\u001b[0m\n\u001b[0;32m    746\u001b[0m \u001b[39mdef\u001b[39;00m \u001b[39mdetect\u001b[39m(\n\u001b[0;32m    747\u001b[0m     \u001b[39mself\u001b[39m,\n\u001b[0;32m    748\u001b[0m     images: typing\u001b[39m.\u001b[39mList[typing\u001b[39m.\u001b[39mUnion[np\u001b[39m.\u001b[39mndarray, \u001b[39mstr\u001b[39m]],\n\u001b[1;32m   (...)\u001b[0m\n\u001b[0;32m    753\u001b[0m     \u001b[39m*\u001b[39m\u001b[39m*\u001b[39mkwargs,\n\u001b[0;32m    754\u001b[0m ):\n\u001b[0;32m    755\u001b[0m     \u001b[39m\"\"\"Recognize the text in a set of images.\u001b[39;00m\n\u001b[0;32m    756\u001b[0m \n\u001b[0;32m    757\u001b[0m \u001b[39m    Args:\u001b[39;00m\n\u001b[1;32m   (...)\u001b[0m\n\u001b[0;32m    776\u001b[0m \u001b[39m        size_threshold: The minimum area for a word.\u001b[39;00m\n\u001b[0;32m    777\u001b[0m \u001b[39m    \"\"\"\u001b[39;00m\n\u001b[1;32m--> 778\u001b[0m     images \u001b[39m=\u001b[39m [compute_input(tools\u001b[39m.\u001b[39mread(image)) \u001b[39mfor\u001b[39;00m image \u001b[39min\u001b[39;00m images]\n\u001b[0;32m    779\u001b[0m     boxes \u001b[39m=\u001b[39m getBoxes(\n\u001b[0;32m    780\u001b[0m         \u001b[39mself\u001b[39m\u001b[39m.\u001b[39mmodel\u001b[39m.\u001b[39mpredict(np\u001b[39m.\u001b[39marray(images), \u001b[39m*\u001b[39m\u001b[39m*\u001b[39mkwargs),\n\u001b[0;32m    781\u001b[0m         detection_threshold\u001b[39m=\u001b[39mdetection_threshold,\n\u001b[1;32m   (...)\u001b[0m\n\u001b[0;32m    784\u001b[0m         size_threshold\u001b[39m=\u001b[39msize_threshold,\n\u001b[0;32m    785\u001b[0m     )\n\u001b[0;32m    786\u001b[0m     \u001b[39mreturn\u001b[39;00m boxes\n",
      "File \u001b[1;32mc:\\Users\\isilb\\AppData\\Local\\Programs\\Python\\Python310\\lib\\site-packages\\keras_ocr\\detection.py:778\u001b[0m, in \u001b[0;36m<listcomp>\u001b[1;34m(.0)\u001b[0m\n\u001b[0;32m    746\u001b[0m \u001b[39mdef\u001b[39;00m \u001b[39mdetect\u001b[39m(\n\u001b[0;32m    747\u001b[0m     \u001b[39mself\u001b[39m,\n\u001b[0;32m    748\u001b[0m     images: typing\u001b[39m.\u001b[39mList[typing\u001b[39m.\u001b[39mUnion[np\u001b[39m.\u001b[39mndarray, \u001b[39mstr\u001b[39m]],\n\u001b[1;32m   (...)\u001b[0m\n\u001b[0;32m    753\u001b[0m     \u001b[39m*\u001b[39m\u001b[39m*\u001b[39mkwargs,\n\u001b[0;32m    754\u001b[0m ):\n\u001b[0;32m    755\u001b[0m     \u001b[39m\"\"\"Recognize the text in a set of images.\u001b[39;00m\n\u001b[0;32m    756\u001b[0m \n\u001b[0;32m    757\u001b[0m \u001b[39m    Args:\u001b[39;00m\n\u001b[1;32m   (...)\u001b[0m\n\u001b[0;32m    776\u001b[0m \u001b[39m        size_threshold: The minimum area for a word.\u001b[39;00m\n\u001b[0;32m    777\u001b[0m \u001b[39m    \"\"\"\u001b[39;00m\n\u001b[1;32m--> 778\u001b[0m     images \u001b[39m=\u001b[39m [compute_input(tools\u001b[39m.\u001b[39;49mread(image)) \u001b[39mfor\u001b[39;00m image \u001b[39min\u001b[39;00m images]\n\u001b[0;32m    779\u001b[0m     boxes \u001b[39m=\u001b[39m getBoxes(\n\u001b[0;32m    780\u001b[0m         \u001b[39mself\u001b[39m\u001b[39m.\u001b[39mmodel\u001b[39m.\u001b[39mpredict(np\u001b[39m.\u001b[39marray(images), \u001b[39m*\u001b[39m\u001b[39m*\u001b[39mkwargs),\n\u001b[0;32m    781\u001b[0m         detection_threshold\u001b[39m=\u001b[39mdetection_threshold,\n\u001b[1;32m   (...)\u001b[0m\n\u001b[0;32m    784\u001b[0m         size_threshold\u001b[39m=\u001b[39msize_threshold,\n\u001b[0;32m    785\u001b[0m     )\n\u001b[0;32m    786\u001b[0m     \u001b[39mreturn\u001b[39;00m boxes\n",
      "File \u001b[1;32mc:\\Users\\isilb\\AppData\\Local\\Programs\\Python\\Python310\\lib\\site-packages\\keras_ocr\\detection.py:40\u001b[0m, in \u001b[0;36mcompute_input\u001b[1;34m(image)\u001b[0m\n\u001b[0;32m     37\u001b[0m mean \u001b[39m=\u001b[39m np\u001b[39m.\u001b[39marray([\u001b[39m0.485\u001b[39m, \u001b[39m0.456\u001b[39m, \u001b[39m0.406\u001b[39m])\n\u001b[0;32m     38\u001b[0m variance \u001b[39m=\u001b[39m np\u001b[39m.\u001b[39marray([\u001b[39m0.229\u001b[39m, \u001b[39m0.224\u001b[39m, \u001b[39m0.225\u001b[39m])\n\u001b[1;32m---> 40\u001b[0m image \u001b[39m-\u001b[39m\u001b[39m=\u001b[39m mean \u001b[39m*\u001b[39m \u001b[39m255\u001b[39m\n\u001b[0;32m     41\u001b[0m image \u001b[39m/\u001b[39m\u001b[39m=\u001b[39m variance \u001b[39m*\u001b[39m \u001b[39m255\u001b[39m\n\u001b[0;32m     42\u001b[0m \u001b[39mreturn\u001b[39;00m image\n",
      "\u001b[1;31mValueError\u001b[0m: operands could not be broadcast together with shapes (2048,4) (3,) (2048,4) "
     ]
    }
   ],
   "source": [
    "prediction_groups = pipeline.recognize(image)\n",
    "\n",
    "#plot\n",
    "fig, axs = plt.subplots(nrows=len(image),figsize=(20,20))\n",
    "for ax, image, predictions in zip(axs,images,prediction_groups):\n",
    "    keras_ocr.tools.drawAnnotations(image=image,predictions=predictions,ax=ax)"
   ]
  },
  {
   "cell_type": "code",
   "execution_count": null,
   "metadata": {},
   "outputs": [],
   "source": [
    "prediction_groups = pipeline.recognize([image])"
   ]
  },
  {
   "cell_type": "code",
   "execution_count": 35,
   "metadata": {},
   "outputs": [
    {
     "data": {
      "text/plain": [
       "'water'"
      ]
     },
     "execution_count": 35,
     "metadata": {},
     "output_type": "execute_result"
    }
   ],
   "source": [
    "prediction_groups[0][1][0]"
   ]
  },
  {
   "cell_type": "code",
   "execution_count": null,
   "metadata": {},
   "outputs": [],
   "source": [
    "detected_chemicals_list=[]\n",
    "for i in range(len(prediction_groups)):\n",
    "    detected_chemicals_list.append(prediction_groups[0][1][0])"
   ]
  }
 ],
 "metadata": {
  "kernelspec": {
   "display_name": "Python 3",
   "language": "python",
   "name": "python3"
  },
  "language_info": {
   "codemirror_mode": {
    "name": "ipython",
    "version": 3
   },
   "file_extension": ".py",
   "mimetype": "text/x-python",
   "name": "python",
   "nbconvert_exporter": "python",
   "pygments_lexer": "ipython3",
   "version": "3.10.7"
  },
  "orig_nbformat": 4
 },
 "nbformat": 4,
 "nbformat_minor": 2
}
