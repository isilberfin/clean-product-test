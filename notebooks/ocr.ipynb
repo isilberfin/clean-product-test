{
 "cells": [
  {
   "cell_type": "code",
   "execution_count": 24,
   "metadata": {},
   "outputs": [],
   "source": [
    "import keras_ocr\n",
    "import matplotlib.pyplot as plt\n",
    "import numpy as np\n",
    "import os"
   ]
  },
  {
   "cell_type": "code",
   "execution_count": 50,
   "metadata": {},
   "outputs": [
    {
     "name": "stdout",
     "output_type": "stream",
     "text": [
      "Looking for C:\\Users\\isilb\\.keras-ocr\\craft_mlt_25k.h5\n",
      "Looking for C:\\Users\\isilb\\.keras-ocr\\crnn_kurapan.h5\n"
     ]
    }
   ],
   "source": [
    "pipeline = keras_ocr.pipeline.Pipeline()"
   ]
  },
  {
   "cell_type": "code",
   "execution_count": 51,
   "metadata": {},
   "outputs": [
    {
     "name": "stdout",
     "output_type": "stream",
     "text": [
      "(480, 640, 3)\n"
     ]
    }
   ],
   "source": [
    "image=keras_ocr.tools.read(os.path.join(\"..\",\"test_img.jpg\"))\n",
    "print(np.shape(image))\n"
   ]
  },
  {
   "cell_type": "code",
   "execution_count": 52,
   "metadata": {},
   "outputs": [
    {
     "name": "stdout",
     "output_type": "stream",
     "text": [
      "1/1 [==============================] - 9s 9s/step\n",
      "2/2 [==============================] - 7s 773ms/step\n"
     ]
    }
   ],
   "source": [
    "prediction_groups = pipeline.recognize([image])"
   ]
  },
  {
   "cell_type": "code",
   "execution_count": 53,
   "metadata": {},
   "outputs": [],
   "source": [
    "detected_chemicals_list=[]\n",
    "for i in range(len(prediction_groups[0])):\n",
    "    detected_chemicals_list.append(prediction_groups[0][i][0])"
   ]
  },
  {
   "cell_type": "code",
   "execution_count": 54,
   "metadata": {},
   "outputs": [
    {
     "data": {
      "text/plain": [
       "['wonnd',\n",
       " 'sa',\n",
       " 'coa',\n",
       " 'ouacan',\n",
       " 'clan',\n",
       " 'cng',\n",
       " 'motoons',\n",
       " 'each',\n",
       " 'i',\n",
       " 'o',\n",
       " 'cotans',\n",
       " 'ian',\n",
       " 'gwoe',\n",
       " 'monoprooyen',\n",
       " 'card',\n",
       " 'looho',\n",
       " 'cotay',\n",
       " 'licothol',\n",
       " 'lol',\n",
       " 'len',\n",
       " 'vea',\n",
       " 'ex',\n",
       " 'ceteaan',\n",
       " 'ntow',\n",
       " 'wuisae',\n",
       " 'cove',\n",
       " 'ol',\n",
       " 'metn',\n",
       " 'ciooo',\n",
       " 'voaoline',\n",
       " 'd',\n",
       " 'lanieo',\n",
       " 'trns',\n",
       " 'cull',\n",
       " 'loznenn',\n",
       " 'wlos',\n",
       " 'e',\n",
       " 'toney',\n",
       " 's']"
      ]
     },
     "execution_count": 54,
     "metadata": {},
     "output_type": "execute_result"
    }
   ],
   "source": [
    "detected_chemicals_list"
   ]
  },
  {
   "cell_type": "code",
   "execution_count": null,
   "metadata": {},
   "outputs": [],
   "source": []
  }
 ],
 "metadata": {
  "kernelspec": {
   "display_name": "Python 3",
   "language": "python",
   "name": "python3"
  },
  "language_info": {
   "codemirror_mode": {
    "name": "ipython",
    "version": 3
   },
   "file_extension": ".py",
   "mimetype": "text/x-python",
   "name": "python",
   "nbconvert_exporter": "python",
   "pygments_lexer": "ipython3",
   "version": "3.10.7"
  },
  "orig_nbformat": 4
 },
 "nbformat": 4,
 "nbformat_minor": 2
}
