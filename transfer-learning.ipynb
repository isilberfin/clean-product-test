{
 "cells": [
  {
   "cell_type": "code",
   "execution_count": 1,
   "metadata": {},
   "outputs": [
    {
     "name": "stdout",
     "output_type": "stream",
     "text": [
      "Found 7254 images belonging to 26 classes.\n",
      "Found 1820 images belonging to 26 classes.\n",
      "Epoch 1/10\n",
      "226/226 [==============================] - 2355s 10s/step - loss: 2.7290 - accuracy: 0.2364 - val_loss: 2.0199 - val_accuracy: 0.4643\n",
      "Epoch 2/10\n",
      "226/226 [==============================] - 2451s 11s/step - loss: 1.7503 - accuracy: 0.5112 - val_loss: 1.4975 - val_accuracy: 0.6038\n",
      "Epoch 3/10\n",
      "226/226 [==============================] - 2466s 11s/step - loss: 1.3523 - accuracy: 0.6444 - val_loss: 1.1775 - val_accuracy: 0.6959\n",
      "Epoch 4/10\n",
      "226/226 [==============================] - 2397s 11s/step - loss: 1.1005 - accuracy: 0.7177 - val_loss: 0.9789 - val_accuracy: 0.7684\n",
      "Epoch 5/10\n",
      "226/226 [==============================] - 2199s 10s/step - loss: 0.9528 - accuracy: 0.7585 - val_loss: 0.8278 - val_accuracy: 0.7935\n",
      "Epoch 6/10\n",
      "226/226 [==============================] - 2296s 10s/step - loss: 0.8563 - accuracy: 0.7753 - val_loss: 0.7880 - val_accuracy: 0.8002\n",
      "Epoch 7/10\n",
      "226/226 [==============================] - 2430s 11s/step - loss: 0.7875 - accuracy: 0.7980 - val_loss: 0.7814 - val_accuracy: 0.7969\n",
      "Epoch 8/10\n",
      "226/226 [==============================] - 2486s 11s/step - loss: 0.7349 - accuracy: 0.8115 - val_loss: 0.7180 - val_accuracy: 0.8097\n",
      "Epoch 9/10\n",
      "226/226 [==============================] - 2325s 10s/step - loss: 0.7052 - accuracy: 0.8127 - val_loss: 0.6729 - val_accuracy: 0.8276\n",
      "Epoch 10/10\n",
      "226/226 [==============================] - 2310s 10s/step - loss: 0.6351 - accuracy: 0.8315 - val_loss: 0.6487 - val_accuracy: 0.8198\n"
     ]
    },
    {
     "data": {
      "text/plain": [
       "<keras.callbacks.History at 0x2e311750940>"
      ]
     },
     "execution_count": 1,
     "metadata": {},
     "output_type": "execute_result"
    }
   ],
   "source": [
    "import os\n",
    "from tensorflow.keras.applications import VGG16\n",
    "from tensorflow.keras.layers import Dense, Flatten\n",
    "from tensorflow.keras.models import Model\n",
    "from tensorflow.keras.preprocessing.image import ImageDataGenerator\n",
    "import pandas as pd\n",
    "\n",
    "# set the dimensions of the input images\n",
    "img_width, img_height = 224, 224\n",
    "\n",
    "# set the number of classes\n",
    "num_classes = 26\n",
    "\n",
    "# set the batch size and number of epochs\n",
    "batch_size = 32\n",
    "epochs = 10\n",
    "\n",
    "# load the pre-trained VGG16 model\n",
    "base_model = VGG16(weights='imagenet', include_top=False, input_shape=(img_width, img_height, 3))\n",
    "\n",
    "# freeze the layers in the base model\n",
    "for layer in base_model.layers:\n",
    "    layer.trainable = False\n",
    "\n",
    "# add a new output layer for the number of classes\n",
    "x = base_model.output\n",
    "x = Flatten()(x)\n",
    "x = Dense(256, activation='relu')(x)\n",
    "predictions = Dense(num_classes, activation='softmax')(x)\n",
    "\n",
    "# create the new model\n",
    "model = Model(inputs=base_model.input, outputs=predictions)\n",
    "\n",
    "# compile the model\n",
    "model.compile(optimizer='adam', loss='categorical_crossentropy', metrics=['accuracy'])\n",
    "\n",
    "# set up the data generators for training and validation\n",
    "train_data_dir = os.path.join(\"train-file\")\n",
    "test_data_dir = os.path.join(\"test-file\")\n",
    "\n",
    "# use data augmentation for the training set\n",
    "train_datagen = ImageDataGenerator(rescale=1./255, shear_range=0.2, zoom_range=0.2, horizontal_flip=True)\n",
    "\n",
    "# no data augmentation for the test set\n",
    "test_datagen = ImageDataGenerator(rescale=1./255)\n",
    "\n",
    "# load the data using the flow_from_directory method\n",
    "train_generator = train_datagen.flow_from_directory(train_data_dir, target_size=(img_width, img_height), batch_size=batch_size, class_mode='categorical')\n",
    "test_generator = test_datagen.flow_from_directory(test_data_dir, target_size=(img_width, img_height), batch_size=batch_size, class_mode='categorical')\n",
    "\n",
    "\n",
    "# train the model\n",
    "model.fit(train_generator, steps_per_epoch=train_generator.samples // batch_size, epochs=epochs, validation_data=test_generator, validation_steps=test_generator.samples // batch_size)"
   ]
  },
  {
   "cell_type": "code",
   "execution_count": 2,
   "metadata": {},
   "outputs": [],
   "source": [
    "# save the model \n",
    "model.save('ocr_model.h5')"
   ]
  },
  {
   "attachments": {},
   "cell_type": "markdown",
   "metadata": {},
   "source": []
  }
 ],
 "metadata": {
  "kernelspec": {
   "display_name": "Python 3",
   "language": "python",
   "name": "python3"
  },
  "language_info": {
   "codemirror_mode": {
    "name": "ipython",
    "version": 3
   },
   "file_extension": ".py",
   "mimetype": "text/x-python",
   "name": "python",
   "nbconvert_exporter": "python",
   "pygments_lexer": "ipython3",
   "version": "3.10.7"
  },
  "orig_nbformat": 4
 },
 "nbformat": 4,
 "nbformat_minor": 2
}
